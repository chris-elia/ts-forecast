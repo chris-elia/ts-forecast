{
 "cells": [
  {
   "cell_type": "markdown",
   "metadata": {},
   "source": [
    "# TimeSeries Forecasting @Datalift Conference Workshop in Berlin - Elia Group"
   ]
  },
  {
   "cell_type": "markdown",
   "metadata": {},
   "source": [
    "created by the Center of Excellence AI Elia Group (Christian Merz, Thomas Craessaerts, Raphael Croegaert, Rachel Berryman)"
   ]
  },
  {
   "cell_type": "markdown",
   "metadata": {},
   "source": [
    "Plan for the forecasting tool [graphic]\n",
    "\n",
    "**Data**\n",
    "\n",
    "    - Total Load\n",
    "    - Pv production\n",
    "    - Windproduction\n",
    "    \n",
    "**Additional Data**\n",
    "\n",
    "    - weather data (wind speed, solar radiation, temperature)\n",
    "    \n",
    "**Forecast Options**\n",
    "\n",
    "- univariate\n",
    "- multivariate \n",
    "\n",
    "**User Interface**\n",
    "- Select the data to forecast\n",
    "- select the historical data \n",
    "- select the forecast horizon\n",
    "- for multivariate: choose which additonal features to add\n"
   ]
  },
  {
   "cell_type": "markdown",
   "metadata": {},
   "source": [
    "### Agenda ###\n",
    "1. Exploring the data  \n",
    " 1.1. Elia Open Data (Total Load, PV and Wind production)  \n",
    " 1.2 Rebase API Weather Forecast  \n",
    " 1.3 Quick Visualization of the Data  \n",
    "1. Time Series forecasting with Prophet  \n",
    " 2.1 Univariate Forecasting  \n",
    " 2.2 Multivariate Forecasting  \n",
    "3. Putting everything together in a Web App with Streamlit  \n"
   ]
  },
  {
   "cell_type": "markdown",
   "metadata": {},
   "source": [
    "**Python Version**\n",
    "- Python: 3.8.13\n",
    "   \n",
    "**Necessary libraries**\n",
    "- pip install streamlit\n",
    "- pip install pystan==2.19.1.1\n",
    "- conda install prophet"
   ]
  },
  {
   "cell_type": "markdown",
   "metadata": {},
   "source": [
    "###     1. Exploring the data from the Elia OpenData Platform\n"
   ]
  },
  {
   "cell_type": "markdown",
   "metadata": {},
   "source": [
    "https://opendata.elia.be/pages/home/ \n",
    "\n",
    "    \n",
    "https://api.rebase.energy/weather/docs/v2/\n",
    "\n",
    "https://realto.io/api-marketplace/"
   ]
  },
  {
   "cell_type": "markdown",
   "metadata": {},
   "source": [
    "#### 1.1. Elia Open DataAPI"
   ]
  },
  {
   "cell_type": "markdown",
   "metadata": {},
   "source": [
    "**Total Load:** https://opendata.elia.be/explore/dataset/ods003/api/\n",
    "\n",
    "**PV production:** https://opendata.elia.be/explore/dataset/ods032/api\n",
    "\n",
    "**Wind production:** https://opendata.elia.be/explore/dataset/ods031/api\n"
   ]
  },
  {
   "cell_type": "code",
   "execution_count": 40,
   "metadata": {},
   "outputs": [],
   "source": [
    "#### Import of the neccessary libraries ###\n",
    "import requests\n",
    "import pandas as pd\n",
    "\n",
    "def get_open_data_elia_df(dataset, start_date, end_date):\n",
    "    \"\"\"Gets and returns the selected dataset from the Elia Open Data Platform within a given time range\n",
    "\n",
    "    Parameters\n",
    "    ----------\n",
    "    dataset: str\n",
    "        the selected dataset identifier from the Elia Open Data Platform\n",
    "    start_date: str\n",
    "        The start date of the selected dataset, Format: \"YYYY-MM-DD\"\n",
    "    end_date: str\n",
    "        The end date of the selected dataset, Format: \"YYYY-MM-DD\"    \n",
    "    \n",
    "\n",
    "    Returns\n",
    "    -------\n",
    "    pd.Dataframe\n",
    "        a dataframe containing the selected data\n",
    "    \n",
    "    \"\"\"\n",
    "\n",
    "    url = f\"https://opendata.elia.be/api/v2/catalog/datasets/{dataset}/exports/\"\n",
    "    json_string = f\"json?where=datetime in [date'{start_date}' .. date'{end_date}']\"\n",
    "    \n",
    "    response = requests.get(url = url + json_string)\n",
    "\n",
    "    # calling the Elia Open Data API\n",
    "    df = pd.DataFrame(response.json())\n",
    "    \n",
    "    df.sort_values(by = \"datetime\", inplace = True)\n",
    "    df.reset_index(inplace = True, drop =  True)    \n",
    "    df[\"datetime\"] = pd.to_datetime(df[\"datetime\"]).dt.tz_localize(None)\n",
    "\n",
    "    return df\n",
    "\n"
   ]
  },
  {
   "cell_type": "markdown",
   "metadata": {},
   "source": [
    "**Test the Open Data Function**"
   ]
  },
  {
   "cell_type": "code",
   "execution_count": 62,
   "metadata": {},
   "outputs": [
    {
     "data": {
      "text/html": [
       "<div>\n",
       "<style scoped>\n",
       "    .dataframe tbody tr th:only-of-type {\n",
       "        vertical-align: middle;\n",
       "    }\n",
       "\n",
       "    .dataframe tbody tr th {\n",
       "        vertical-align: top;\n",
       "    }\n",
       "\n",
       "    .dataframe thead th {\n",
       "        text-align: right;\n",
       "    }\n",
       "</style>\n",
       "<table border=\"1\" class=\"dataframe\">\n",
       "  <thead>\n",
       "    <tr style=\"text-align: right;\">\n",
       "      <th></th>\n",
       "      <th>datetime</th>\n",
       "      <th>resolutioncode</th>\n",
       "      <th>eliagridload</th>\n",
       "    </tr>\n",
       "  </thead>\n",
       "  <tbody>\n",
       "    <tr>\n",
       "      <th>0</th>\n",
       "      <td>2022-06-03 00:00:00</td>\n",
       "      <td>PT15M</td>\n",
       "      <td>6641.334</td>\n",
       "    </tr>\n",
       "    <tr>\n",
       "      <th>1</th>\n",
       "      <td>2022-06-03 00:15:00</td>\n",
       "      <td>PT15M</td>\n",
       "      <td>6639.778</td>\n",
       "    </tr>\n",
       "    <tr>\n",
       "      <th>2</th>\n",
       "      <td>2022-06-03 00:30:00</td>\n",
       "      <td>PT15M</td>\n",
       "      <td>6581.803</td>\n",
       "    </tr>\n",
       "    <tr>\n",
       "      <th>3</th>\n",
       "      <td>2022-06-03 00:45:00</td>\n",
       "      <td>PT15M</td>\n",
       "      <td>6537.082</td>\n",
       "    </tr>\n",
       "    <tr>\n",
       "      <th>4</th>\n",
       "      <td>2022-06-03 01:00:00</td>\n",
       "      <td>PT15M</td>\n",
       "      <td>6598.935</td>\n",
       "    </tr>\n",
       "  </tbody>\n",
       "</table>\n",
       "</div>"
      ],
      "text/plain": [
       "             datetime resolutioncode  eliagridload\n",
       "0 2022-06-03 00:00:00          PT15M      6641.334\n",
       "1 2022-06-03 00:15:00          PT15M      6639.778\n",
       "2 2022-06-03 00:30:00          PT15M      6581.803\n",
       "3 2022-06-03 00:45:00          PT15M      6537.082\n",
       "4 2022-06-03 01:00:00          PT15M      6598.935"
      ]
     },
     "execution_count": 62,
     "metadata": {},
     "output_type": "execute_result"
    }
   ],
   "source": [
    "dataset = \"ods003\"\n",
    "start_date = \"2022-06-03\"\n",
    "end_date = \"2022-06-05\"\n",
    "df_open_data = get_open_data_elia_df(dataset, start_date , end_date )\n",
    "df_open_data.head()"
   ]
  },
  {
   "cell_type": "markdown",
   "metadata": {},
   "source": [
    "#### 1.2 Rebase Weather Forecast"
   ]
  },
  {
   "cell_type": "code",
   "execution_count": 59,
   "metadata": {},
   "outputs": [],
   "source": [
    "def get_weather_forecast(start_date, end_date, latitude, longitude):\n",
    "    \n",
    "    secret = \"W-cRKEYdwzL6mdWCYO2_UZSOWI1MxET07dquSY9Fck4\"\n",
    "    \"\"\"\n",
    "    Gets and returns the weather forecast from rebase within a given time range\n",
    "\n",
    "    Parameters\n",
    "    ----------\n",
    "    start_date: str\n",
    "        The start date of the selected dataset, Format: \"YYYY-MM-DD\"\n",
    "    end_date: str\n",
    "        The end date of the selected dataset, Format: \"YYYY-MM-DD\"\n",
    "    latitude: str\n",
    "        The latitude value (Geo location) of the city for the weather forecast\n",
    "    longitude: str\n",
    "        The longitude value (Geo location) of the city for the weather forecast\n",
    "\n",
    "    Returns\n",
    "    -------\n",
    "    pd.Dataframe\n",
    "        a dataframe containing the selected data\n",
    "    \n",
    "    \"\"\"\n",
    "\n",
    "    start_date = pd.to_datetime(start_date)\n",
    "    end_date = pd.to_datetime(end_date)\n",
    "\n",
    "    # Authentication\n",
    "    url = \"https://api.rebase.energy/weather/v2/query\"\n",
    "    headers = {\"Authorization\": secret } ## to be changed to st.secrets[\"REBASE_KEY\"]\n",
    "    params = {\n",
    "        'model': 'FMI_HIRLAM',\n",
    "        'start-date': start_date,\n",
    "        'end-date': end_date,\n",
    "        'reference-time-freq': '24H',\n",
    "        'forecast-horizon': 'latest',\n",
    "        'latitude': latitude,\n",
    "        'longitude': longitude,\n",
    "        'variables': 'Temperature, WindSpeed, SolarDownwardRadiation'\n",
    "    }\n",
    "    response = requests.get(url, headers=headers, params=params)\n",
    "    print(response)\n",
    "    # Clean data\n",
    "    df = pd.DataFrame(response.json())\n",
    "    df = df.drop('ref_datetime', axis=1)\n",
    "    df[\"valid_datetime\"] = pd.to_datetime(df[\"valid_datetime\"]).dt.tz_localize(None)\n",
    "\n",
    "    df = df.rename(columns={'valid_datetime': 'datetime'})\n",
    "    df = df.drop_duplicates(keep='last')\n",
    "    df = df.fillna(0)\n",
    "\n",
    "    return df\n",
    "  \n"
   ]
  },
  {
   "cell_type": "markdown",
   "metadata": {},
   "source": [
    "**Test Weather Forecast Rebase** "
   ]
  },
  {
   "cell_type": "code",
   "execution_count": 60,
   "metadata": {},
   "outputs": [
    {
     "name": "stdout",
     "output_type": "stream",
     "text": [
      "<Response [200]>\n"
     ]
    },
    {
     "data": {
      "text/html": [
       "<div>\n",
       "<style scoped>\n",
       "    .dataframe tbody tr th:only-of-type {\n",
       "        vertical-align: middle;\n",
       "    }\n",
       "\n",
       "    .dataframe tbody tr th {\n",
       "        vertical-align: top;\n",
       "    }\n",
       "\n",
       "    .dataframe thead th {\n",
       "        text-align: right;\n",
       "    }\n",
       "</style>\n",
       "<table border=\"1\" class=\"dataframe\">\n",
       "  <thead>\n",
       "    <tr style=\"text-align: right;\">\n",
       "      <th></th>\n",
       "      <th>datetime</th>\n",
       "      <th>SolarDownwardRadiation</th>\n",
       "      <th>Temperature</th>\n",
       "      <th>WindSpeed</th>\n",
       "    </tr>\n",
       "  </thead>\n",
       "  <tbody>\n",
       "    <tr>\n",
       "      <th>0</th>\n",
       "      <td>2022-06-03 00:00:00</td>\n",
       "      <td>0.00</td>\n",
       "      <td>12.96</td>\n",
       "      <td>4.21</td>\n",
       "    </tr>\n",
       "    <tr>\n",
       "      <th>1</th>\n",
       "      <td>2022-06-03 01:00:00</td>\n",
       "      <td>0.00</td>\n",
       "      <td>12.29</td>\n",
       "      <td>3.54</td>\n",
       "    </tr>\n",
       "    <tr>\n",
       "      <th>2</th>\n",
       "      <td>2022-06-03 02:00:00</td>\n",
       "      <td>0.00</td>\n",
       "      <td>11.08</td>\n",
       "      <td>2.92</td>\n",
       "    </tr>\n",
       "    <tr>\n",
       "      <th>3</th>\n",
       "      <td>2022-06-03 03:00:00</td>\n",
       "      <td>0.00</td>\n",
       "      <td>10.02</td>\n",
       "      <td>2.76</td>\n",
       "    </tr>\n",
       "    <tr>\n",
       "      <th>4</th>\n",
       "      <td>2022-06-03 04:00:00</td>\n",
       "      <td>3.41</td>\n",
       "      <td>9.23</td>\n",
       "      <td>2.55</td>\n",
       "    </tr>\n",
       "  </tbody>\n",
       "</table>\n",
       "</div>"
      ],
      "text/plain": [
       "             datetime  SolarDownwardRadiation  Temperature  WindSpeed\n",
       "0 2022-06-03 00:00:00                    0.00        12.96       4.21\n",
       "1 2022-06-03 01:00:00                    0.00        12.29       3.54\n",
       "2 2022-06-03 02:00:00                    0.00        11.08       2.92\n",
       "3 2022-06-03 03:00:00                    0.00        10.02       2.76\n",
       "4 2022-06-03 04:00:00                    3.41         9.23       2.55"
      ]
     },
     "execution_count": 60,
     "metadata": {},
     "output_type": "execute_result"
    }
   ],
   "source": [
    "start_date = \"2022-06-03\"\n",
    "end_date = \"2022-06-05\"\n",
    "latitude = \"50.85045\"\n",
    "longitude = \"4.34878\"\n",
    "df_weather = get_weather_forecast(start_date, end_date, latitude, longitude)\n",
    "\n",
    "df_weather.head()"
   ]
  },
  {
   "cell_type": "markdown",
   "metadata": {},
   "source": [
    "### 1.3 Quick Visualization of the Data"
   ]
  },
  {
   "cell_type": "code",
   "execution_count": 76,
   "metadata": {},
   "outputs": [
    {
     "data": {
      "text/plain": [
       "<matplotlib.axes._subplots.AxesSubplot at 0x7fce1c968dc0>"
      ]
     },
     "execution_count": 76,
     "metadata": {},
     "output_type": "execute_result"
    },
    {
     "data": {
      "image/png": "[encoded data removed]",
      "text/plain": [
       "<Figure size 432x288 with 1 Axes>"
      ]
     },
     "metadata": {
      "needs_background": "light"
     },
     "output_type": "display_data"
    }
   ],
   "source": [
    "df_grid_load = get_open_data_elia_df(\"ods003\", \"2022-06-02\", \"2022-06-05\")\n",
    "df_grid_load = df_grid_load.loc[:,[\"datetime\", \"eliagridload\"]]\n",
    "#df_ts.set_index(\"datetime\", inplace=True)\n",
    "df_grid_load.plot(\n",
    "    x = df_grid_load.columns[0],\n",
    "    y = df_grid_load.columns[1],\n",
    "    title = \"Total Load in the Elia Grid\",\n",
    "    ylabel = \"MW\",\n",
    "    xlabel = \"Time\"\n",
    ")"
   ]
  },
  {
   "cell_type": "code",
   "execution_count": 84,
   "metadata": {},
   "outputs": [
    {
     "name": "stdout",
     "output_type": "stream",
     "text": [
      "<Response [200]>\n"
     ]
    },
    {
     "data": {
      "text/plain": [
       "array([<matplotlib.axes._subplots.AxesSubplot object at 0x7fce1c63a4f0>,\n",
       "       <matplotlib.axes._subplots.AxesSubplot object at 0x7fce1c5f8280>,\n",
       "       <matplotlib.axes._subplots.AxesSubplot object at 0x7fce1c5984f0>],\n",
       "      dtype=object)"
      ]
     },
     "execution_count": 84,
     "metadata": {},
     "output_type": "execute_result"
    },
    {
     "data": {
      "image/png": "[encoded data removed]",
      "text/plain": [
       "<Figure size 432x288 with 3 Axes>"
      ]
     },
     "metadata": {
      "needs_background": "light"
     },
     "output_type": "display_data"
    }
   ],
   "source": [
    "df_weather = get_weather_forecast(\"2022-06-02\", \"2022-06-05\", latitude = \"50.85045\", longitude = \"4.34878\")\n",
    "#df_weather = df_weather.loc[:,[\"datetime\", \"eliagridload\"]]\n",
    "#df_ts.set_index(\"datetime\", inplace=True)\n",
    "df_weather.plot(\n",
    "    x = df_weather.columns[0],\n",
    "    y = [df_weather.columns[1],df_weather.columns[2],df_weather.columns[3]],\n",
    "    title = \"Total Load in the Elia Grid\",\n",
    "    xlabel = \"Time\",\n",
    "    subplots = True\n",
    ")"
   ]
  },
  {
   "cell_type": "markdown",
   "metadata": {},
   "source": [
    "## 2. Timeseries Forecasting with Prophet (Facebook)"
   ]
  },
  {
   "cell_type": "markdown",
   "metadata": {},
   "source": [
    "The Prophet library is an open-source library designed for making forecasts for univariate time series datasets.\n",
    "It is a procedure for forecasting time series data based on an additive model where non-linear trends are fit with yearly, weekly, and daily seasonality, plus holiday effects. It works best with time series that have strong seasonal effects and several seasons of historical data. Prophet is robust to missing data and shifts in the trend, and typically handles outliers well."
   ]
  },
  {
   "cell_type": "markdown",
   "metadata": {},
   "source": [
    "**Documentation:** https://facebook.github.io/prophet/docs/quick_start.html"
   ]
  },
  {
   "cell_type": "markdown",
   "metadata": {},
   "source": [
    "### 2.1 Univariate Forecasting"
   ]
  },
  {
   "cell_type": "markdown",
   "metadata": {},
   "source": [
    "#### Installation of Prophet"
   ]
  },
  {
   "cell_type": "code",
   "execution_count": 88,
   "metadata": {},
   "outputs": [
    {
     "name": "stdout",
     "output_type": "stream",
     "text": [
      "Collecting pystan==2.19.1.1\n",
      "  Using cached pystan-2.19.1.1-cp38-cp38-manylinux1_x86_64.whl (62.6 MB)\n",
      "Requirement already satisfied: numpy>=1.7 in /opt/conda/lib/python3.8/site-packages (from pystan==2.19.1.1) (1.19.1)\n",
      "Requirement already satisfied: Cython!=0.25.1,>=0.22 in /opt/conda/lib/python3.8/site-packages (from pystan==2.19.1.1) (0.29.21)\n",
      "Installing collected packages: pystan\n",
      "Successfully installed pystan-2.19.1.1\n",
      "Note: you may need to restart the kernel to use updated packages.\n"
     ]
    }
   ],
   "source": [
    "pip install pystan==2.19.1.1"
   ]
  },
  {
   "cell_type": "code",
   "execution_count": 89,
   "metadata": {},
   "outputs": [
    {
     "name": "stdout",
     "output_type": "stream",
     "text": [
      "Collecting prophet\n",
      "  Using cached prophet-1.0.1.tar.gz (65 kB)\n",
      "Requirement already satisfied: Cython>=0.22 in /opt/conda/lib/python3.8/site-packages (from prophet) (0.29.21)\n",
      "Collecting cmdstanpy==0.9.68\n",
      "  Using cached cmdstanpy-0.9.68-py3-none-any.whl (49 kB)\n",
      "Requirement already satisfied: pystan~=2.19.1.1 in /opt/conda/lib/python3.8/site-packages (from prophet) (2.19.1.1)\n",
      "Requirement already satisfied: numpy>=1.15.4 in /opt/conda/lib/python3.8/site-packages (from prophet) (1.19.1)\n",
      "Requirement already satisfied: pandas>=1.0.4 in /opt/conda/lib/python3.8/site-packages (from prophet) (1.1.1)\n",
      "Requirement already satisfied: matplotlib>=2.0.0 in /opt/conda/lib/python3.8/site-packages (from prophet) (3.2.2)\n",
      "Collecting LunarCalendar>=0.0.9\n",
      "  Using cached LunarCalendar-0.0.9-py2.py3-none-any.whl (18 kB)\n",
      "Collecting convertdate>=2.1.2\n",
      "  Using cached convertdate-2.4.0-py3-none-any.whl (47 kB)\n",
      "Collecting holidays>=0.10.2\n",
      "  Downloading holidays-0.14.2-py3-none-any.whl (179 kB)\n",
      "\u001b[K     |████████████████████████████████| 179 kB 13.9 MB/s eta 0:00:01\n",
      "\u001b[?25hCollecting setuptools-git>=1.2\n",
      "  Using cached setuptools_git-1.2-py2.py3-none-any.whl (10 kB)\n",
      "Requirement already satisfied: python-dateutil>=2.8.0 in /opt/conda/lib/python3.8/site-packages (from prophet) (2.8.1)\n",
      "Requirement already satisfied: tqdm>=4.36.1 in /opt/conda/lib/python3.8/site-packages (from prophet) (4.48.2)\n",
      "Collecting ujson\n",
      "  Using cached ujson-5.3.0-cp38-cp38-manylinux_2_17_x86_64.manylinux2014_x86_64.whl (45 kB)\n",
      "Requirement already satisfied: pytz>=2017.2 in /opt/conda/lib/python3.8/site-packages (from pandas>=1.0.4->prophet) (2020.1)\n",
      "Requirement already satisfied: kiwisolver>=1.0.1 in /opt/conda/lib/python3.8/site-packages (from matplotlib>=2.0.0->prophet) (1.2.0)\n",
      "Requirement already satisfied: cycler>=0.10 in /opt/conda/lib/python3.8/site-packages (from matplotlib>=2.0.0->prophet) (0.10.0)\n",
      "Requirement already satisfied: pyparsing!=2.0.4,!=2.1.2,!=2.1.6,>=2.0.1 in /opt/conda/lib/python3.8/site-packages (from matplotlib>=2.0.0->prophet) (2.4.7)\n",
      "Collecting ephem>=3.7.5.3\n",
      "  Using cached ephem-4.1.3-cp38-cp38-manylinux_2_17_x86_64.manylinux2014_x86_64.whl (1.8 MB)\n",
      "Processing /home/jovyan/.cache/pip/wheels/a0/8b/b2/810ae5a6f970c8be4725353400d643c90de1c0f023a9884ee7/PyMeeus-0.5.11-py3-none-any.whl\n",
      "Collecting hijri-converter\n",
      "  Using cached hijri_converter-2.2.4-py3-none-any.whl (14 kB)\n",
      "Collecting korean-lunar-calendar\n",
      "  Using cached korean_lunar_calendar-0.2.1-py3-none-any.whl (8.0 kB)\n",
      "Requirement already satisfied: six>=1.5 in /opt/conda/lib/python3.8/site-packages (from python-dateutil>=2.8.0->prophet) (1.15.0)\n",
      "Building wheels for collected packages: prophet\n",
      "  Building wheel for prophet (setup.py) ... \u001b[?25lerror\n",
      "\u001b[31m  ERROR: Command errored out with exit status 1:\n",
      "   command: /opt/conda/bin/python -u -c 'import sys, setuptools, tokenize; sys.argv[0] = '\"'\"'/tmp/pip-install-f1epejno/prophet/setup.py'\"'\"'; __file__='\"'\"'/tmp/pip-install-f1epejno/prophet/setup.py'\"'\"';f=getattr(tokenize, '\"'\"'open'\"'\"', open)(__file__);code=f.read().replace('\"'\"'\\r\\n'\"'\"', '\"'\"'\\n'\"'\"');f.close();exec(compile(code, __file__, '\"'\"'exec'\"'\"'))' bdist_wheel -d /tmp/pip-wheel-pl61owzz\n",
      "       cwd: /tmp/pip-install-f1epejno/prophet/\n",
      "  Complete output (44 lines):\n",
      "  running bdist_wheel\n",
      "  running build\n",
      "  running build_py\n",
      "  creating build\n",
      "  creating build/lib\n",
      "  creating build/lib/prophet\n",
      "  creating build/lib/prophet/stan_model\n",
      "  Traceback (most recent call last):\n",
      "    File \"<string>\", line 1, in <module>\n",
      "    File \"/tmp/pip-install-f1epejno/prophet/setup.py\", line 123, in <module>\n",
      "      setup(\n",
      "    File \"/opt/conda/lib/python3.8/site-packages/setuptools/__init__.py\", line 163, in setup\n",
      "      return distutils.core.setup(**attrs)\n",
      "    File \"/opt/conda/lib/python3.8/distutils/core.py\", line 148, in setup\n",
      "      dist.run_commands()\n",
      "    File \"/opt/conda/lib/python3.8/distutils/dist.py\", line 966, in run_commands\n",
      "      self.run_command(cmd)\n",
      "    File \"/opt/conda/lib/python3.8/distutils/dist.py\", line 985, in run_command\n",
      "      cmd_obj.run()\n",
      "    File \"/opt/conda/lib/python3.8/site-packages/wheel/bdist_wheel.py\", line 290, in run\n",
      "      self.run_command('build')\n",
      "    File \"/opt/conda/lib/python3.8/distutils/cmd.py\", line 313, in run_command\n",
      "      self.distribution.run_command(command)\n",
      "    File \"/opt/conda/lib/python3.8/distutils/dist.py\", line 985, in run_command\n",
      "      cmd_obj.run()\n",
      "    File \"/opt/conda/lib/python3.8/distutils/command/build.py\", line 135, in run\n",
      "      self.run_command(cmd_name)\n",
      "    File \"/opt/conda/lib/python3.8/distutils/cmd.py\", line 313, in run_command\n",
      "      self.distribution.run_command(command)\n",
      "    File \"/opt/conda/lib/python3.8/distutils/dist.py\", line 985, in run_command\n",
      "      cmd_obj.run()\n",
      "    File \"/tmp/pip-install-f1epejno/prophet/setup.py\", line 48, in run\n",
      "      build_models(target_dir)\n",
      "    File \"/tmp/pip-install-f1epejno/prophet/setup.py\", line 36, in build_models\n",
      "      from prophet.models import StanBackendEnum\n",
      "    File \"/tmp/pip-install-f1epejno/prophet/prophet/__init__.py\", line 8, in <module>\n",
      "      from prophet.forecaster import Prophet\n",
      "    File \"/tmp/pip-install-f1epejno/prophet/prophet/forecaster.py\", line 17, in <module>\n",
      "      from prophet.make_holidays import get_holiday_names, make_holidays_df\n",
      "    File \"/tmp/pip-install-f1epejno/prophet/prophet/make_holidays.py\", line 14, in <module>\n",
      "      import prophet.hdays as hdays_part2\n",
      "    File \"/tmp/pip-install-f1epejno/prophet/prophet/hdays.py\", line 13, in <module>\n",
      "      from convertdate.islamic import from_gregorian, to_gregorian\n",
      "  ModuleNotFoundError: No module named 'convertdate'\n",
      "  ----------------------------------------\u001b[0m\n",
      "\u001b[31m  ERROR: Failed building wheel for prophet\u001b[0m\n",
      "\u001b[?25h  Running setup.py clean for prophet\n",
      "Failed to build prophet\n",
      "\u001b[33mDEPRECATION: Could not build wheels for prophet which do not use PEP 517. pip will fall back to legacy 'setup.py install' for these. pip 21.0 will remove support for this functionality. A possible replacement is to fix the wheel build issue reported above. You can find discussion regarding this at https://github.com/pypa/pip/issues/8368.\u001b[0m\n",
      "Installing collected packages: ujson, cmdstanpy, ephem, LunarCalendar, pymeeus, convertdate, hijri-converter, korean-lunar-calendar, holidays, setuptools-git, prophet\n",
      "    Running setup.py install for prophet ... \u001b[?25ldone\n",
      "\u001b[?25hSuccessfully installed LunarCalendar-0.0.9 cmdstanpy-0.9.68 convertdate-2.4.0 ephem-4.1.3 hijri-converter-2.2.4 holidays-0.14.2 korean-lunar-calendar-0.2.1 prophet-1.0.1 pymeeus-0.5.11 setuptools-git-1.2 ujson-5.3.0\n",
      "Note: you may need to restart the kernel to use updated packages.\n"
     ]
    }
   ],
   "source": [
    "pip install prophet"
   ]
  },
  {
   "cell_type": "code",
   "execution_count": null,
   "metadata": {},
   "outputs": [],
   "source": [
    "## for Anaconda \n",
    "#conda install -c conda-forge prophet"
   ]
  },
  {
   "cell_type": "markdown",
   "metadata": {},
   "source": [
    "Dont forget to restart the kernel."
   ]
  },
  {
   "cell_type": "markdown",
   "metadata": {},
   "source": [
    "#### Setup and Training of Prophet"
   ]
  },
  {
   "cell_type": "code",
   "execution_count": 87,
   "metadata": {},
   "outputs": [
    {
     "ename": "ModuleNotFoundError",
     "evalue": "No module named 'prophet'",
     "output_type": "error",
     "traceback": [
      "\u001b[0;31m---------------------------------------------------------------------------\u001b[0m",
      "\u001b[0;31mModuleNotFoundError\u001b[0m                       Traceback (most recent call last)",
      "\u001b[0;32m<ipython-input-87-bd53882de199>\u001b[0m in \u001b[0;36m<module>\u001b[0;34m\u001b[0m\n\u001b[0;32m----> 1\u001b[0;31m \u001b[0;32mfrom\u001b[0m \u001b[0mprophet\u001b[0m \u001b[0;32mimport\u001b[0m \u001b[0mProphet\u001b[0m\u001b[0;34m\u001b[0m\u001b[0;34m\u001b[0m\u001b[0m\n\u001b[0m\u001b[1;32m      2\u001b[0m \u001b[0;34m\u001b[0m\u001b[0m\n\u001b[1;32m      3\u001b[0m \u001b[0;32mdef\u001b[0m \u001b[0mrun_forecast_univariate\u001b[0m\u001b[0;34m(\u001b[0m\u001b[0mdf\u001b[0m\u001b[0;34m,\u001b[0m \u001b[0mperiods\u001b[0m\u001b[0;34m)\u001b[0m\u001b[0;34m:\u001b[0m\u001b[0;34m\u001b[0m\u001b[0;34m\u001b[0m\u001b[0m\n\u001b[1;32m      4\u001b[0m \u001b[0;34m\u001b[0m\u001b[0m\n\u001b[1;32m      5\u001b[0m     \u001b[0;31m#renaming columns for prophet convention\u001b[0m\u001b[0;34m\u001b[0m\u001b[0;34m\u001b[0m\u001b[0;34m\u001b[0m\u001b[0m\n",
      "\u001b[0;31mModuleNotFoundError\u001b[0m: No module named 'prophet'"
     ]
    }
   ],
   "source": [
    "from prophet import Prophet\n",
    "\n",
    "def run_forecast_univariate(df, periods):\n",
    "\n",
    "    #renaming columns for prophet convention\n",
    "    df = df.rename(columns = {df.columns[0]: \"ds\", df.columns[1]:\"y\"})\n",
    "\n",
    "    # creating a Prophet object \n",
    "    ## optional parameters can be set here like:\n",
    "    ## seasonality, changepoints, uncertainty intervals etc. see help(Prophet) \n",
    "    ## e.g. weekly_seasonality = True\n",
    "    m = Prophet() \n",
    "\n",
    "    # fit() methods expects a dataframe with the column heads ds and y\n",
    "    # fits the prophet model to the data\n",
    "    m.fit(df)\n",
    "\n",
    "    # Definition of forecast range\n",
    "     ## periods: Int number of periods to forecast forward. \n",
    "     ## req: Any valid frequency for pd.date_range, such as 'D' or 'M'.\n",
    "    future = m.make_future_dataframe(periods=periods, freq = \"H\")\n",
    "    \n",
    "    # Prediction\n",
    "     ## expects a dataframe with dates for predictions \n",
    "     ## (created above with make_future_dataframe)\n",
    "    forecast = m.predict(future)\n",
    "    \n",
    "    # plotting\n",
    "    fig_forecast = m.plot(forecast)\n",
    "    fig_comp = m.plot_components(forecast)\n",
    "    \n",
    "    return forecast, fig_forecast, fig_comp"
   ]
  },
  {
   "cell_type": "markdown",
   "metadata": {},
   "source": [
    "**Test Univariate Forecast**"
   ]
  },
  {
   "cell_type": "code",
   "execution_count": 86,
   "metadata": {},
   "outputs": [
    {
     "ename": "NameError",
     "evalue": "name 'run_forecast_univariate' is not defined",
     "output_type": "error",
     "traceback": [
      "\u001b[0;31m---------------------------------------------------------------------------\u001b[0m",
      "\u001b[0;31mNameError\u001b[0m                                 Traceback (most recent call last)",
      "\u001b[0;32m<ipython-input-86-c47fc0ed6885>\u001b[0m in \u001b[0;36m<module>\u001b[0;34m\u001b[0m\n\u001b[1;32m      1\u001b[0m \u001b[0mdf_grid_load\u001b[0m \u001b[0;34m=\u001b[0m \u001b[0mget_open_data_elia_df\u001b[0m\u001b[0;34m(\u001b[0m\u001b[0;34m\"ods003\"\u001b[0m\u001b[0;34m,\u001b[0m \u001b[0;34m\"2022-06-02\"\u001b[0m\u001b[0;34m,\u001b[0m \u001b[0;34m\"2022-06-05\"\u001b[0m\u001b[0;34m)\u001b[0m\u001b[0;34m\u001b[0m\u001b[0;34m\u001b[0m\u001b[0m\n\u001b[0;32m----> 2\u001b[0;31m \u001b[0mforecast\u001b[0m\u001b[0;34m,\u001b[0m \u001b[0mfig_forecast\u001b[0m\u001b[0;34m,\u001b[0m \u001b[0mfig_comp\u001b[0m \u001b[0;34m=\u001b[0m \u001b[0mrun_forecast_univariate\u001b[0m\u001b[0;34m(\u001b[0m\u001b[0mdf_grid_load\u001b[0m\u001b[0;34m,\u001b[0m \u001b[0;36m100\u001b[0m\u001b[0;34m)\u001b[0m\u001b[0;34m\u001b[0m\u001b[0;34m\u001b[0m\u001b[0m\n\u001b[0m\u001b[1;32m      3\u001b[0m \u001b[0mforecast\u001b[0m\u001b[0;34m,\u001b[0m \u001b[0mfig_forecast\u001b[0m\u001b[0;34m,\u001b[0m \u001b[0mfig_comp\u001b[0m\u001b[0;34m\u001b[0m\u001b[0;34m\u001b[0m\u001b[0m\n",
      "\u001b[0;31mNameError\u001b[0m: name 'run_forecast_univariate' is not defined"
     ]
    }
   ],
   "source": [
    "df_grid_load = get_open_data_elia_df(\"ods003\", \"2022-06-02\", \"2022-06-05\")\n",
    "forecast, fig_forecast, fig_comp = run_forecast_univariate(df_grid_load, 100)\n",
    "forecast, fig_forecast, fig_comp"
   ]
  },
  {
   "cell_type": "markdown",
   "metadata": {},
   "source": [
    "#### Multivariate Forecasting"
   ]
  },
  {
   "cell_type": "code",
   "execution_count": null,
   "metadata": {},
   "outputs": [],
   "source": [
    "from prophet import Prophet\n",
    "from prophet.utilities import regressor_coefficients\n",
    "from datetime import timedelta\n",
    "import pandas as pd\n",
    "\n",
    "from prophet.utilities import regressor_coefficients\n",
    "from modules.fetch_data import get_weather_forecast, get_open_data_elia_df\n",
    "\n",
    "\n",
    "def prepare_data_for_mv_fc(dataset, start_date, end_date, solar, wind, temp, lat,long):\n",
    "    \"\"\"\n",
    "    Prepares and merges data for Wind and PV multivariate forecast\n",
    "\n",
    "    Parameters\n",
    "    ----------\n",
    "    dataset: str\n",
    "        the selected dataset identifier from the Elia Open Data Platform\n",
    "    start_date: str\n",
    "        The start date of the selected dataset, Format: \"YYYY-MM-DD\"\n",
    "    end_date: str\n",
    "        The end date of the selected dataset, Format: \"YYYY-MM-DD\"    \n",
    "    solar: bool\n",
    "        if True, solar data will be added as additional regressor\n",
    "    wind: bool\n",
    "        if True, wind data will be added as additional regressor\n",
    "    temp: bool\n",
    "        if True, temp data will be added as additional regressor\n",
    "    lat: str\n",
    "        The latitude value (Geo location) of the city for the weather forecast\n",
    "    long: str\n",
    "        The longitude value (Geo location) of the city for the weather forecast\n",
    "\n",
    "    Returns\n",
    "    -------\n",
    "    pd.Dataframe\n",
    "        a dataframe containing the selected data\n",
    "    \n",
    "    \"\"\"\n",
    "    # catch open data\n",
    "    if (dataset == \"ods003\"): # total load\n",
    "        df = get_open_data_elia_df(dataset,start_date, end_date) \n",
    "        df.set_index(df[\"datetime\"], inplace = True)\n",
    "        df = df.resample(\"H\").mean()\n",
    "        df.reset_index(inplace = True)\n",
    "        \n",
    "    else:  # for solar & wind \n",
    "        df = get_open_data_elia_df(dataset,start_date, end_date) \n",
    "        df = df.groupby(\"datetime\").sum()\n",
    "        df = df.resample(\"H\").mean()\n",
    "        df.reset_index(inplace = True)\n",
    "        df = df.loc[:,[\"datetime\", \"mostrecentforecast\"]]\n",
    "        df[\"datetime\"] = pd.to_datetime(df[\"datetime\"]).dt.tz_localize(None)\n",
    "\n",
    "    # specifying variables\n",
    "    start_date= df[\"datetime\"].iloc[0]\n",
    "    end_date = df[\"datetime\"].iloc[-1]\n",
    "    latitude = lat\n",
    "    longitude = long\n",
    "\n",
    "    # get weather forecast\n",
    "    df_weather = get_weather_forecast(start_date, end_date, latitude, longitude)\n",
    "    columns = []\n",
    "    if solar:\n",
    "        columns.append(\"SolarDownwardRadiation\")\n",
    "    if wind:  \n",
    "        columns.append(\"WindSpeed\")\n",
    "    if temp:\n",
    "        columns.append(\"Temperature\")\n",
    "\n",
    "    columns.append(\"datetime\")\n",
    "    df_weather = df_weather.loc[:,columns]    \n",
    "    df_merged = merge_df_with_add_reg(df, df_weather, \"datetime\", \"datetime\")\n",
    "    df_merged.rename(columns = {df.columns[0]: \"ds\", df.columns[1]:\"y\"}, inplace = True)\n",
    "\n",
    "    return df_merged\n",
    "\n"
   ]
  },
  {
   "cell_type": "code",
   "execution_count": null,
   "metadata": {},
   "outputs": [],
   "source": [
    "def merge_df_with_add_reg(df1, df2, left_on, right_on):\n",
    "    df = df1.merge(df2, left_on= left_on, right_on = right_on)\n",
    "    return df"
   ]
  },
  {
   "cell_type": "code",
   "execution_count": null,
   "metadata": {},
   "outputs": [],
   "source": [
    "def run_forecast_multivariate(df_merged, lat, long, forecast_horizon):\n",
    "\n",
    "    end_date = df_merged[\"ds\"].sort_values().iloc[-1]\n",
    "    logger.debug(df_merged[\"ds\"].sort_values())\n",
    "    start_date_forecast = end_date + timedelta(hours = 1)\n",
    "    end_date_forecast = start_date_forecast + timedelta(hours = forecast_horizon)\n",
    "    weather_forecast = get_weather_forecast(start_date_forecast, end_date_forecast, lat, long)\n",
    "\n",
    "    m = Prophet(yearly_seasonality=True) \n",
    "    \n",
    "    for each in df_merged.columns[2:]:\n",
    "        m.add_regressor(each)\n",
    "\n",
    "    # fit() methods expects a dataframe with the column heads ds and y\n",
    "    # fits the prophet model to the data\n",
    "    m.fit(df_merged)\n",
    "\n",
    "    # Definition of forecast range\n",
    "    ## periods: Int number of periods to forecast forward. \n",
    "    ## req: Any valid frequency for pd.date_range, such as 'D' or 'M'.\n",
    "    future = m.make_future_dataframe(periods=forecast_horizon, freq = \"H\")\n",
    "    future = merge_df_with_add_reg(future, weather_forecast, left_on = \"ds\", right_on=\"datetime\")\n",
    "\n",
    "    # Prediction\n",
    "    ## expects a dataframe with dates for predictions \n",
    "    ## (created above with make_future_dataframe)\n",
    "    forecast = m.predict(future)\n",
    "\n",
    "    # plotting\n",
    "    fig_forecast = m.plot(forecast)\n",
    "    fig_components = m.plot_components(forecast)\n",
    "\n",
    "    reg_coef = regressor_coefficients(m)\n",
    "    \n",
    "    return forecast, fig_forecast, fig_components, reg_coef\n"
   ]
  },
  {
   "cell_type": "code",
   "execution_count": null,
   "metadata": {},
   "outputs": [],
   "source": []
  },
  {
   "cell_type": "code",
   "execution_count": null,
   "metadata": {},
   "outputs": [],
   "source": []
  },
  {
   "cell_type": "markdown",
   "metadata": {},
   "source": [
    "**Bringing everything together in a forecasting function**"
   ]
  },
  {
   "cell_type": "code",
   "execution_count": 225,
   "metadata": {},
   "outputs": [],
   "source": []
  },
  {
   "cell_type": "markdown",
   "metadata": {},
   "source": [
    "**Test the forecast function**"
   ]
  },
  {
   "cell_type": "code",
   "execution_count": null,
   "metadata": {},
   "outputs": [],
   "source": [
    "# import of budget timeserie as dataframe\n",
    "# rename dataframe to prophet convention: \n",
    "\n",
    "df = get_open_data_elia_df(total_load_dataset,1000) \n",
    "df_ts = df.loc[:,[\"datetime\", \"eliagridload\"]]\n",
    "df_ts.rename(columns = {df_ts.columns[0]: \"ds\", df_ts.columns[1]:\"y\"}, inplace = True)\n",
    "forecast_prophet(df_ts, 72)"
   ]
  },
  {
   "cell_type": "code",
   "execution_count": 284,
   "metadata": {},
   "outputs": [],
   "source": [
    "\n"
   ]
  },
  {
   "cell_type": "code",
   "execution_count": null,
   "metadata": {},
   "outputs": [],
   "source": []
  },
  {
   "cell_type": "code",
   "execution_count": null,
   "metadata": {},
   "outputs": [],
   "source": []
  },
  {
   "cell_type": "code",
   "execution_count": null,
   "metadata": {},
   "outputs": [],
   "source": []
  },
  {
   "cell_type": "code",
   "execution_count": null,
   "metadata": {},
   "outputs": [],
   "source": []
  },
  {
   "cell_type": "code",
   "execution_count": 466,
   "metadata": {},
   "outputs": [],
   "source": []
  },
  {
   "cell_type": "code",
   "execution_count": null,
   "metadata": {},
   "outputs": [],
   "source": []
  },
  {
   "cell_type": "code",
   "execution_count": null,
   "metadata": {},
   "outputs": [],
   "source": [
    "\n"
   ]
  },
  {
   "cell_type": "code",
   "execution_count": 432,
   "metadata": {},
   "outputs": [
    {
     "ename": "NameError",
     "evalue": "name 'prophet' is not defined",
     "output_type": "error",
     "traceback": [
      "\u001b[0;31m---------------------------------------------------------------------------\u001b[0m",
      "\u001b[0;31mNameError\u001b[0m                                 Traceback (most recent call last)",
      "\u001b[0;32m<ipython-input-432-aff87961a95b>\u001b[0m in \u001b[0;36m<module>\u001b[0;34m\u001b[0m\n\u001b[0;32m----> 1\u001b[0;31m \u001b[0mhelp\u001b[0m\u001b[0;34m(\u001b[0m\u001b[0mprophet\u001b[0m\u001b[0;34m)\u001b[0m\u001b[0;34m\u001b[0m\u001b[0;34m\u001b[0m\u001b[0m\n\u001b[0m",
      "\u001b[0;31mNameError\u001b[0m: name 'prophet' is not defined"
     ]
    }
   ],
   "source": [
    "yhat = trend + yearly + extra_regressors_additive,\n",
    "where\n",
    "extra_regressors_additive = (temperature_data - temperature_center)*temperature_coef \n",
    "                            + (humidity_data - humidity_center )* humidity_coe"
   ]
  },
  {
   "cell_type": "code",
   "execution_count": null,
   "metadata": {},
   "outputs": [],
   "source": []
  }
 ],
 "metadata": {
  "kernelspec": {
   "display_name": "Python 3",
   "language": "python",
   "name": "python3"
  },
  "language_info": {
   "codemirror_mode": {
    "name": "ipython",
    "version": 3
   },
   "file_extension": ".py",
   "mimetype": "text/x-python",
   "name": "python",
   "nbconvert_exporter": "python",
   "pygments_lexer": "ipython3",
   "version": "3.8.5"
  }
 },
 "nbformat": 4,
 "nbformat_minor": 4
}
